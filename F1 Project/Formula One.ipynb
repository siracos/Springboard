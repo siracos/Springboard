{
 "cells": [
  {
   "cell_type": "code",
   "execution_count": 5,
   "metadata": {},
   "outputs": [],
   "source": [
    "import requests\n",
    "import json\n",
    "from pandas.io.json import json_normalize \n",
    "import os\n",
    "import csv\n",
    "import pandas as pd\n"
   ]
  },
  {
   "cell_type": "code",
   "execution_count": 13,
   "metadata": {},
   "outputs": [
    {
     "name": "stdout",
     "output_type": "stream",
     "text": [
      "['1976', '1989', '1993', '1994', '1995', '2009', '2014']\n"
     ]
    }
   ],
   "source": [
    "#Array for years with significant rule changes \n",
    "signrules = ['1976','1989','1993','1994','1995','2009','2014']\n",
    "print(signrules)"
   ]
  },
  {
   "cell_type": "code",
   "execution_count": 15,
   "metadata": {
    "scrolled": false
   },
   "outputs": [],
   "source": [
    "filname = \"myf1data.csv\"\n",
    "#Delete the CSV file if it already exists\n",
    "if os.path.exists(filname):\n",
    "  os.remove(filname)\n",
    "\n",
    "\n",
    "#Load data into myf1data.csv\n",
    "#Get the data from the JSON output.  Since the Diver and Constructor sections are lists\n",
    "# of dictionaries, I had to normalize it and retrieve each one seperately\n",
    "# The logic below retrieves the necessary field \n",
    "#Posittion, Race Name, Season/Year, Race Number, Race Date, DriverFirstName, DriverLastName, DriverID, StartingGrid#,ConstructorName\n",
    "with open(filname, 'a', newline='\\n') as csvfile:\n",
    "    csvwriter = csv.writer(csvfile)\n",
    "    fieldnames = ['Posittion','RaceName','SeasonYear','RaceNumber','RaceDate','DriverFirstName',\n",
    "                'DriverLastName','DriverID','StartingGridNumb','ConstructorName','RaceTime','rulechanges']\n",
    "    csvwriter.writerow(fieldnames)\n",
    "def load_into_csv(link, year,result):\n",
    "    r = requests.get(link)\n",
    "    data = r.json()\n",
    "    r.close()\n",
    "    data_df =data['MRData']['RaceTable']\n",
    "    with open(filname, 'a', newline='\\n') as csvfile:\n",
    "#csvwriter.writerow(['Posittion','RaceName','SeasonYear','RaceNumber','RaceDate','DriverFirstName','DriverLastName','DriverID','StartingGridNumb','ConstructorName'])\n",
    "   \n",
    "        for f1dat in [data_df]:\n",
    "            for races in f1dat['Races']:\n",
    "                for results in races['Results']:\n",
    "                     for givenname in json_normalize(results['Driver'])['givenName']:\n",
    " \n",
    "                         for famname in json_normalize(results['Driver'])['familyName']:\n",
    "                            for driverid in json_normalize(results['Driver'])['driverId']:\n",
    "                                for construct in json_normalize(results['Constructor'])['name']:\n",
    "                                    \n",
    "                                #Used the logic below to account for missing time values. Created a pseudo dictionary to account for blanks.\n",
    "                                    times = results.get('Time',{'millis': '0', 'time': '0'})\n",
    "\n",
    "                                    racetime =times.get('time',0)\n",
    "                                    #Add rule changes field for years with significant changes 1 = Yes  0 = NO\n",
    "                                    if  races['season'] in signrules:\n",
    "                                        rulechanges = 1\n",
    "                                    else:\n",
    "                                        rulechanges = 0\n",
    "                                    \n",
    "                                    data = [f1dat['position'],races['raceName'],races['season'],races['round'] ,\n",
    "                                                races['date'],givenname, famname,driverid,results['grid'],construct, racetime, rulechanges]\n",
    "\n",
    "                            \n",
    "                                    csvwriter = csv.writer(csvfile)\n",
    "                                    csvwriter.writerow(data)\n",
    "\n",
    "                                    \n",
    "    csvfile.close()\n",
    "\n",
    "\n",
    "if __name__ == \"__main__\":\n",
    "\n",
    "    \n",
    "    result = '1'\n",
    "# We only want data for the top 3 spots per race\n",
    "    while int(result) <= 3:\n",
    "        #We can filter by year below\n",
    "        year='1970'\n",
    "        while int(year) <= 2018:\n",
    "           \n",
    "            link = 'https://ergast.com/api/f1/' + year + '/results/'+ result +'.json'\n",
    "            load_into_csv(link, year,result)\n",
    "            year = str(int(year)+1)\n",
    "\n",
    "        link = 'https://ergast.com/api/f1/' + year + '/results/'+ result +'.json'\n",
    "        load_into_csv(link, year,result)\n",
    "           \n",
    "        result = str(int(result)+1)\n",
    "        \n",
    "\n",
    " "
   ]
  },
  {
   "cell_type": "code",
   "execution_count": null,
   "metadata": {},
   "outputs": [],
   "source": []
  },
  {
   "cell_type": "code",
   "execution_count": null,
   "metadata": {},
   "outputs": [],
   "source": []
  },
  {
   "cell_type": "code",
   "execution_count": 32,
   "metadata": {},
   "outputs": [
    {
     "data": {
      "text/html": [
       "<div>\n",
       "<style scoped>\n",
       "    .dataframe tbody tr th:only-of-type {\n",
       "        vertical-align: middle;\n",
       "    }\n",
       "\n",
       "    .dataframe tbody tr th {\n",
       "        vertical-align: top;\n",
       "    }\n",
       "\n",
       "    .dataframe thead th {\n",
       "        text-align: right;\n",
       "    }\n",
       "</style>\n",
       "<table border=\"1\" class=\"dataframe\">\n",
       "  <thead>\n",
       "    <tr style=\"text-align: right;\">\n",
       "      <th></th>\n",
       "      <th>Posittion</th>\n",
       "      <th>RaceName</th>\n",
       "      <th>SeasonYear</th>\n",
       "      <th>RaceNumber</th>\n",
       "      <th>RaceDate</th>\n",
       "      <th>DriverFirstName</th>\n",
       "      <th>DriverLastName</th>\n",
       "      <th>DriverID</th>\n",
       "      <th>StartingGridNumb</th>\n",
       "      <th>ConstructorName</th>\n",
       "      <th>RaceTime</th>\n",
       "      <th>rulechanges</th>\n",
       "    </tr>\n",
       "  </thead>\n",
       "  <tbody>\n",
       "    <tr>\n",
       "      <th>0</th>\n",
       "      <td>1</td>\n",
       "      <td>South African Grand Prix</td>\n",
       "      <td>1970</td>\n",
       "      <td>1</td>\n",
       "      <td>1970-03-07</td>\n",
       "      <td>Jack</td>\n",
       "      <td>Brabham</td>\n",
       "      <td>jack_brabham</td>\n",
       "      <td>3</td>\n",
       "      <td>Brabham</td>\n",
       "      <td>1:49:35.4</td>\n",
       "      <td>0</td>\n",
       "    </tr>\n",
       "    <tr>\n",
       "      <th>1</th>\n",
       "      <td>1</td>\n",
       "      <td>Spanish Grand Prix</td>\n",
       "      <td>1970</td>\n",
       "      <td>2</td>\n",
       "      <td>1970-04-19</td>\n",
       "      <td>Jackie</td>\n",
       "      <td>Stewart</td>\n",
       "      <td>stewart</td>\n",
       "      <td>3</td>\n",
       "      <td>March</td>\n",
       "      <td>2:10:58.2</td>\n",
       "      <td>0</td>\n",
       "    </tr>\n",
       "    <tr>\n",
       "      <th>2</th>\n",
       "      <td>1</td>\n",
       "      <td>Monaco Grand Prix</td>\n",
       "      <td>1970</td>\n",
       "      <td>3</td>\n",
       "      <td>1970-05-10</td>\n",
       "      <td>Jochen</td>\n",
       "      <td>Rindt</td>\n",
       "      <td>rindt</td>\n",
       "      <td>8</td>\n",
       "      <td>Team Lotus</td>\n",
       "      <td>1:54:37.4</td>\n",
       "      <td>0</td>\n",
       "    </tr>\n",
       "    <tr>\n",
       "      <th>3</th>\n",
       "      <td>1</td>\n",
       "      <td>Belgian Grand Prix</td>\n",
       "      <td>1970</td>\n",
       "      <td>4</td>\n",
       "      <td>1970-06-07</td>\n",
       "      <td>Pedro</td>\n",
       "      <td>Rodríguez</td>\n",
       "      <td>rodriguez</td>\n",
       "      <td>6</td>\n",
       "      <td>BRM</td>\n",
       "      <td>1:38:10.1</td>\n",
       "      <td>0</td>\n",
       "    </tr>\n",
       "    <tr>\n",
       "      <th>4</th>\n",
       "      <td>1</td>\n",
       "      <td>Dutch Grand Prix</td>\n",
       "      <td>1970</td>\n",
       "      <td>5</td>\n",
       "      <td>1970-06-21</td>\n",
       "      <td>Jochen</td>\n",
       "      <td>Rindt</td>\n",
       "      <td>rindt</td>\n",
       "      <td>1</td>\n",
       "      <td>Team Lotus</td>\n",
       "      <td>1:50:43.4</td>\n",
       "      <td>0</td>\n",
       "    </tr>\n",
       "  </tbody>\n",
       "</table>\n",
       "</div>"
      ],
      "text/plain": [
       "   Posittion                  RaceName  SeasonYear  RaceNumber    RaceDate  \\\n",
       "0          1  South African Grand Prix        1970           1  1970-03-07   \n",
       "1          1        Spanish Grand Prix        1970           2  1970-04-19   \n",
       "2          1         Monaco Grand Prix        1970           3  1970-05-10   \n",
       "3          1        Belgian Grand Prix        1970           4  1970-06-07   \n",
       "4          1          Dutch Grand Prix        1970           5  1970-06-21   \n",
       "\n",
       "  DriverFirstName DriverLastName      DriverID  StartingGridNumb  \\\n",
       "0            Jack        Brabham  jack_brabham                 3   \n",
       "1          Jackie        Stewart       stewart                 3   \n",
       "2          Jochen          Rindt         rindt                 8   \n",
       "3           Pedro      Rodríguez     rodriguez                 6   \n",
       "4          Jochen          Rindt         rindt                 1   \n",
       "\n",
       "  ConstructorName   RaceTime  rulechanges  \n",
       "0         Brabham  1:49:35.4            0  \n",
       "1           March  2:10:58.2            0  \n",
       "2      Team Lotus  1:54:37.4            0  \n",
       "3             BRM  1:38:10.1            0  \n",
       "4      Team Lotus  1:50:43.4            0  "
      ]
     },
     "execution_count": 32,
     "metadata": {},
     "output_type": "execute_result"
    }
   ],
   "source": [
    "#Import data as Pandas\n",
    "\n",
    "import pandas as pd \n",
    "\n",
    "data = pd.read_csv(filname,encoding = \"ISO-8859-1\") \n",
    "\n",
    "\n",
    "data.head()"
   ]
  },
  {
   "cell_type": "code",
   "execution_count": 391,
   "metadata": {},
   "outputs": [],
   "source": [
    "\n"
   ]
  },
  {
   "cell_type": "code",
   "execution_count": null,
   "metadata": {},
   "outputs": [],
   "source": []
  },
  {
   "cell_type": "code",
   "execution_count": null,
   "metadata": {},
   "outputs": [],
   "source": [
    "#Now we need to add the rule changes data\n",
    "#First I'll scrape this WikiPedia page for rule changes by year:\n",
    "#https://en.wikipedia.org/wiki/History_of_Formula_One_regulations"
   ]
  },
  {
   "cell_type": "code",
   "execution_count": 17,
   "metadata": {},
   "outputs": [
    {
     "name": "stdout",
     "output_type": "stream",
     "text": [
      "<dd>\n",
      " New car formula of turbocharged V6 engines with 1600cc capacity and 8-speed gearbox introduced,\n",
      " which must now last at least 4,000 km (2,500 mi) before being replaced\n",
      " and have the KERS (now known as ERS-K) integrated into it.\n",
      " New penalty points system introduced, teams must nominate eight gear ratios ahead of the first race, false camera mountings banned, in-season testing returns, car nose further reprofiled. A new car number system where the driver is able to choose their own numbers for the duration of their career is also adopted. Double points awarded for the final race of the season.\n",
      "</dd>\n",
      "<dt>\n",
      " 2014\n",
      "</dt>\n",
      "\n"
     ]
    }
   ],
   "source": [
    "from bs4 import BeautifulSoup\n",
    "import requests\n",
    "\n",
    "page = requests.get(\"https://en.wikipedia.org/wiki/History_of_Formula_One_regulations\")\n",
    "soup = BeautifulSoup(page.content, 'html.parser')\n",
    "[s.extract() for s in soup('sup')] #Remove hyperlinks (sup)\n",
    "data = soup.find(id=\"content\")\n",
    "yearsall = data.find_all('dt')\n",
    "rulechall = data.find_all('dd')\n",
    "rulech = rulechall[50]\n",
    "year = yearsall[50]\n",
    "print(rulech.prettify())\n",
    "print(year.prettify())\n",
    "#sample output below"
   ]
  },
  {
   "cell_type": "code",
   "execution_count": 18,
   "metadata": {},
   "outputs": [],
   "source": [
    "# Retrieve data sets for year and details (of changes)\n",
    "yearsdata = [sd.get_text() for sd in data.select('dt')]\n",
    "detailsdata = [t.get_text() for t in data.select('dd')]\n"
   ]
  },
  {
   "cell_type": "code",
   "execution_count": 20,
   "metadata": {},
   "outputs": [
    {
     "data": {
      "text/html": [
       "<div>\n",
       "<style scoped>\n",
       "    .dataframe tbody tr th:only-of-type {\n",
       "        vertical-align: middle;\n",
       "    }\n",
       "\n",
       "    .dataframe tbody tr th {\n",
       "        vertical-align: top;\n",
       "    }\n",
       "\n",
       "    .dataframe thead th {\n",
       "        text-align: right;\n",
       "    }\n",
       "</style>\n",
       "<table border=\"1\" class=\"dataframe\">\n",
       "  <thead>\n",
       "    <tr style=\"text-align: right;\">\n",
       "      <th></th>\n",
       "      <th>details</th>\n",
       "      <th>year</th>\n",
       "    </tr>\n",
       "  </thead>\n",
       "  <tbody>\n",
       "    <tr>\n",
       "      <th>0</th>\n",
       "      <td>Engine specs set at 1500 cc maximum size for e...</td>\n",
       "      <td>1950–1953</td>\n",
       "    </tr>\n",
       "    <tr>\n",
       "      <th>1</th>\n",
       "      <td>Engine specs amended to allow 750 cc maximum e...</td>\n",
       "      <td>1954</td>\n",
       "    </tr>\n",
       "    <tr>\n",
       "      <th>2</th>\n",
       "      <td>The use of commercial petrol became compulsory...</td>\n",
       "      <td>1958</td>\n",
       "    </tr>\n",
       "    <tr>\n",
       "      <th>3</th>\n",
       "      <td>Regulations unchanged from 1959 (maximum engin...</td>\n",
       "      <td>1960</td>\n",
       "    </tr>\n",
       "    <tr>\n",
       "      <th>4</th>\n",
       "      <td>Engine specs amended to a naturally aspirated ...</td>\n",
       "      <td>1961–1965</td>\n",
       "    </tr>\n",
       "  </tbody>\n",
       "</table>\n",
       "</div>"
      ],
      "text/plain": [
       "                                             details        year\n",
       "0  Engine specs set at 1500 cc maximum size for e...  1950–1953 \n",
       "1  Engine specs amended to allow 750 cc maximum e...       1954 \n",
       "2  The use of commercial petrol became compulsory...       1958 \n",
       "3  Regulations unchanged from 1959 (maximum engin...       1960 \n",
       "4  Engine specs amended to a naturally aspirated ...  1961–1965 "
      ]
     },
     "execution_count": 20,
     "metadata": {},
     "output_type": "execute_result"
    }
   ],
   "source": [
    "#Create panda table of our data \n",
    "rulechangesdata = pd.DataFrame({\n",
    "        \"year\": yearsdata, \n",
    "        \"details\": detailsdata\n",
    "    })\n",
    "rulechangesdata.head()"
   ]
  },
  {
   "cell_type": "code",
   "execution_count": null,
   "metadata": {},
   "outputs": [],
   "source": []
  },
  {
   "cell_type": "code",
   "execution_count": null,
   "metadata": {},
   "outputs": [],
   "source": [
    "# Now that I have my data set and my rules in one place,\n",
    "# time to do the part I was avoiding, go through the rules\n",
    "# to choose which years had 'BIG' changes."
   ]
  },
  {
   "cell_type": "code",
   "execution_count": null,
   "metadata": {},
   "outputs": [],
   "source": [
    "# After subjectively going through the list, the following looked to have \n",
    "#significant changes.\n",
    "#1976,1989,,1993,,1994,1995,2009,2014 \n"
   ]
  },
  {
   "cell_type": "code",
   "execution_count": null,
   "metadata": {},
   "outputs": [],
   "source": [
    "# We will also need the actual Construction and Driver Championship winners per year"
   ]
  },
  {
   "cell_type": "code",
   "execution_count": null,
   "metadata": {},
   "outputs": [],
   "source": [
    "#Let's practice webscraping again and using Wikipedia champinship data"
   ]
  },
  {
   "cell_type": "code",
   "execution_count": 21,
   "metadata": {},
   "outputs": [],
   "source": [
    "champpage = requests.get(\"https://simple.wikipedia.org/wiki/List_of_Formula_One_World_Drivers%27_Champions\")\n",
    "champsoup = BeautifulSoup(champpage.content, 'html.parser')\n",
    "[s.extract() for s in champsoup('href')] #Remove hyperlinks (sup)\n",
    "champdata = champsoup.find(id=\"content\")\n"
   ]
  },
  {
   "cell_type": "code",
   "execution_count": 93,
   "metadata": {},
   "outputs": [],
   "source": []
  },
  {
   "cell_type": "code",
   "execution_count": 25,
   "metadata": {},
   "outputs": [],
   "source": [
    "champstable = champsoup.find('table',{'class':'wikitable sortable'})"
   ]
  },
  {
   "cell_type": "code",
   "execution_count": 26,
   "metadata": {},
   "outputs": [
    {
     "data": {
      "text/plain": [
       "[]"
      ]
     },
     "execution_count": 26,
     "metadata": {},
     "output_type": "execute_result"
    }
   ],
   "source": [
    "[s.extract() for s in champsoup('span')] #Remove hyperlinks (span) this was causing issues with the name since there are 2 'a's\n"
   ]
  },
  {
   "cell_type": "code",
   "execution_count": 27,
   "metadata": {},
   "outputs": [],
   "source": [
    "\n",
    "#creating lists for each of the columns I know to be in my table.\n",
    "A=[]\n",
    "B=[]\n",
    "C=[]\n",
    "D=[]\n",
    "E=[]\n",
    "F=[]\n",
    "#utilizing HTML tags for rows <tr> and elements <td> to iterate through each row of data and append data elements to their appropriate lists:\n",
    "for row in champstable.findAll('tr'):\n",
    "    cells = row.findAll('td')\n",
    "    driver = row.find_all('a')\n",
    "    if len(cells)==10: # Number of columns in table\n",
    "        A.append(cells[0].find(text=True))\n",
    "        B.append(driver[1].find(text=True))\n",
    "        C.append(cells[2].find(text=True))\n",
    "        D.append(cells[3].find(text=True))\n",
    "        E.append(cells[4].find(text=True))\n",
    "        F.append(cells[5].find(text=True))"
   ]
  },
  {
   "cell_type": "code",
   "execution_count": 28,
   "metadata": {},
   "outputs": [
    {
     "data": {
      "text/html": [
       "<div>\n",
       "<style scoped>\n",
       "    .dataframe tbody tr th:only-of-type {\n",
       "        vertical-align: middle;\n",
       "    }\n",
       "\n",
       "    .dataframe tbody tr th {\n",
       "        vertical-align: top;\n",
       "    }\n",
       "\n",
       "    .dataframe thead th {\n",
       "        text-align: right;\n",
       "    }\n",
       "</style>\n",
       "<table border=\"1\" class=\"dataframe\">\n",
       "  <thead>\n",
       "    <tr style=\"text-align: right;\">\n",
       "      <th></th>\n",
       "      <th>Season</th>\n",
       "      <th>Driver</th>\n",
       "      <th>Team</th>\n",
       "      <th>Poles</th>\n",
       "      <th>Wins</th>\n",
       "      <th>Podiums</th>\n",
       "    </tr>\n",
       "  </thead>\n",
       "  <tbody>\n",
       "    <tr>\n",
       "      <th>0</th>\n",
       "      <td>1950</td>\n",
       "      <td>Nino Farina</td>\n",
       "      <td>Alfa Romeo</td>\n",
       "      <td>2</td>\n",
       "      <td>3</td>\n",
       "      <td>3</td>\n",
       "    </tr>\n",
       "    <tr>\n",
       "      <th>1</th>\n",
       "      <td>1951</td>\n",
       "      <td>Juan Manuel Fangio</td>\n",
       "      <td>Alfa Romeo</td>\n",
       "      <td>4</td>\n",
       "      <td>3</td>\n",
       "      <td>5</td>\n",
       "    </tr>\n",
       "    <tr>\n",
       "      <th>2</th>\n",
       "      <td>1952</td>\n",
       "      <td>Alberto Ascari</td>\n",
       "      <td>Ferrari</td>\n",
       "      <td>5</td>\n",
       "      <td>6</td>\n",
       "      <td>6</td>\n",
       "    </tr>\n",
       "    <tr>\n",
       "      <th>3</th>\n",
       "      <td>1953</td>\n",
       "      <td>Alberto Ascari</td>\n",
       "      <td>Ferrari</td>\n",
       "      <td>6</td>\n",
       "      <td>5</td>\n",
       "      <td>5</td>\n",
       "    </tr>\n",
       "    <tr>\n",
       "      <th>4</th>\n",
       "      <td>1954</td>\n",
       "      <td>Juan Manuel Fangio</td>\n",
       "      <td>Maserati</td>\n",
       "      <td>5</td>\n",
       "      <td>6</td>\n",
       "      <td>7</td>\n",
       "    </tr>\n",
       "  </tbody>\n",
       "</table>\n",
       "</div>"
      ],
      "text/plain": [
       "  Season              Driver        Team Poles Wins Podiums\n",
       "0   1950         Nino Farina  Alfa Romeo    2\n",
       "   3\n",
       "      3\n",
       "\n",
       "1   1951  Juan Manuel Fangio  Alfa Romeo    4\n",
       "    3      5\n",
       "\n",
       "2   1952      Alberto Ascari     Ferrari    5\n",
       "   6\n",
       "      6\n",
       "\n",
       "3   1953      Alberto Ascari     Ferrari    6\n",
       "   5\n",
       "      5\n",
       "\n",
       "4   1954  Juan Manuel Fangio    Maserati    5\n",
       "   6\n",
       "      7"
      ]
     },
     "execution_count": 28,
     "metadata": {},
     "output_type": "execute_result"
    }
   ],
   "source": [
    "champsdf=pd.DataFrame(A,columns=['Season'])\n",
    "champsdf['Driver']=B\n",
    "champsdf['Team']=C\n",
    "champsdf['Poles']=D\n",
    "champsdf['Wins']=E\n",
    "champsdf['Podiums']=F\n",
    "\n",
    "champsdf.head()\n",
    "\n",
    "#Now we have summarized championship figures "
   ]
  },
  {
   "cell_type": "code",
   "execution_count": 58,
   "metadata": {},
   "outputs": [
    {
     "data": {
      "text/html": [
       "<div>\n",
       "<style scoped>\n",
       "    .dataframe tbody tr th:only-of-type {\n",
       "        vertical-align: middle;\n",
       "    }\n",
       "\n",
       "    .dataframe tbody tr th {\n",
       "        vertical-align: top;\n",
       "    }\n",
       "\n",
       "    .dataframe thead th {\n",
       "        text-align: right;\n",
       "    }\n",
       "</style>\n",
       "<table border=\"1\" class=\"dataframe\">\n",
       "  <thead>\n",
       "    <tr style=\"text-align: right;\">\n",
       "      <th></th>\n",
       "      <th>details</th>\n",
       "      <th>year</th>\n",
       "      <th>Big Rule Changes</th>\n",
       "    </tr>\n",
       "  </thead>\n",
       "  <tbody>\n",
       "    <tr>\n",
       "      <th>0</th>\n",
       "      <td>Engine specs set at 1500 cc maximum size for e...</td>\n",
       "      <td>1950–1953</td>\n",
       "      <td>0</td>\n",
       "    </tr>\n",
       "    <tr>\n",
       "      <th>1</th>\n",
       "      <td>Engine specs amended to allow 750 cc maximum e...</td>\n",
       "      <td>1954</td>\n",
       "      <td>0</td>\n",
       "    </tr>\n",
       "    <tr>\n",
       "      <th>2</th>\n",
       "      <td>The use of commercial petrol became compulsory...</td>\n",
       "      <td>1958</td>\n",
       "      <td>0</td>\n",
       "    </tr>\n",
       "    <tr>\n",
       "      <th>3</th>\n",
       "      <td>Regulations unchanged from 1959 (maximum engin...</td>\n",
       "      <td>1960</td>\n",
       "      <td>0</td>\n",
       "    </tr>\n",
       "    <tr>\n",
       "      <th>4</th>\n",
       "      <td>Engine specs amended to a naturally aspirated ...</td>\n",
       "      <td>1961–1965</td>\n",
       "      <td>0</td>\n",
       "    </tr>\n",
       "  </tbody>\n",
       "</table>\n",
       "</div>"
      ],
      "text/plain": [
       "                                             details       year  \\\n",
       "0  Engine specs set at 1500 cc maximum size for e...  1950–1953   \n",
       "1  Engine specs amended to allow 750 cc maximum e...       1954   \n",
       "2  The use of commercial petrol became compulsory...       1958   \n",
       "3  Regulations unchanged from 1959 (maximum engin...       1960   \n",
       "4  Engine specs amended to a naturally aspirated ...  1961–1965   \n",
       "\n",
       "   Big Rule Changes  \n",
       "0                 0  \n",
       "1                 0  \n",
       "2                 0  \n",
       "3                 0  \n",
       "4                 0  "
      ]
     },
     "execution_count": 58,
     "metadata": {},
     "output_type": "execute_result"
    }
   ],
   "source": [
    "#Add rule changes column/field to our wikipedia data frames\n",
    "champsdf['Big Rule Changes'] = champsdf.apply(lambda x: 1 if x['Season'] in signrules  else 0, axis=1)\n",
    "champsdf.head()\n",
    "\n",
    "\n",
    "rulechangesdata['year'] = rulechangesdata['year'].str.strip() #Clean spaces in year\n",
    "rulechangesdata['Big Rule Changes'] = rulechangesdata.apply(lambda x: 1 if x['year'] in signrules  else 0, axis=1)\n",
    "\n",
    "rulechangesdata.head()"
   ]
  },
  {
   "cell_type": "code",
   "execution_count": 57,
   "metadata": {},
   "outputs": [],
   "source": [
    "#The code below witll export our F1 Data, champtionship, and rules data into one \n",
    "# Excel workbook (can't help it I love Excel).\n",
    "\n",
    "with pd.ExcelWriter('f1dataExcel.xlsx') as writer:\n",
    "    data.to_excel(writer, 'f1data')\n",
    "    champsdf.to_excel(writer, 'champs')\n",
    "    rulechangesdata.to_excel(writer, 'Rules', columns = ['year', 'details','Big Rule Changes'])\n",
    "writer.save()"
   ]
  },
  {
   "cell_type": "code",
   "execution_count": null,
   "metadata": {},
   "outputs": [],
   "source": []
  },
  {
   "cell_type": "code",
   "execution_count": 60,
   "metadata": {},
   "outputs": [
    {
     "data": {
      "image/png": "[encoded data removed]",
      "text/plain": [
       "<Figure size 432x288 with 1 Axes>"
      ]
     },
     "metadata": {
      "needs_background": "light"
     },
     "output_type": "display_data"
    }
   ],
   "source": [
    "#First chart with our data!\n",
    "import matplotlib.pyplot  as plt\n",
    "\n",
    "plt.scatter(x=champsdf['Team'], y=champsdf['Season'])\n",
    "plt.show()"
   ]
  },
  {
   "cell_type": "code",
   "execution_count": null,
   "metadata": {},
   "outputs": [],
   "source": [
    "\n",
    "plt.scatter(x=champsdf['Team'], y=champsdf['Season'])\n",
    "plt.show()"
   ]
  },
  {
   "cell_type": "code",
   "execution_count": null,
   "metadata": {},
   "outputs": [],
   "source": [
    "#I think this is when we move on to Tableau.  "
   ]
  }
 ],
 "metadata": {
  "kernelspec": {
   "display_name": "Python 3",
   "language": "python",
   "name": "python3"
  },
  "language_info": {
   "codemirror_mode": {
    "name": "ipython",
    "version": 3
   },
   "file_extension": ".py",
   "mimetype": "text/x-python",
   "name": "python",
   "nbconvert_exporter": "python",
   "pygments_lexer": "ipython3",
   "version": "3.6.7"
  }
 },
 "nbformat": 4,
 "nbformat_minor": 2
}
